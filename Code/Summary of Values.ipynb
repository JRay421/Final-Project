{
 "cells": [
  {
   "cell_type": "markdown",
   "id": "badc76e1",
   "metadata": {},
   "source": [
    "# Exploratory Analysis"
   ]
  },
  {
   "cell_type": "markdown",
   "id": "84fa69ae",
   "metadata": {},
   "source": [
    "### Import Packages"
   ]
  },
  {
   "cell_type": "code",
   "execution_count": 2,
   "id": "ea62cbef",
   "metadata": {},
   "outputs": [],
   "source": [
    "import pandas as pd"
   ]
  },
  {
   "cell_type": "markdown",
   "id": "6e31d573",
   "metadata": {},
   "source": [
    "### Load Data"
   ]
  },
  {
   "cell_type": "code",
   "execution_count": 4,
   "id": "c1bb6a34",
   "metadata": {},
   "outputs": [],
   "source": [
    "BC = pd.read_csv('C:/Users/Student/Desktop/Group Project/archive/breast-cancer.csv')"
   ]
  },
  {
   "cell_type": "markdown",
   "id": "98b0cbcb",
   "metadata": {},
   "source": [
    "### Summary of selected values"
   ]
  },
  {
   "cell_type": "code",
   "execution_count": null,
   "id": "12712107",
   "metadata": {},
   "outputs": [],
   "source": []
  }
 ],
 "metadata": {
  "kernelspec": {
   "display_name": "Python 3",
   "language": "python",
   "name": "python3"
  },
  "language_info": {
   "codemirror_mode": {
    "name": "ipython",
    "version": 3
   },
   "file_extension": ".py",
   "mimetype": "text/x-python",
   "name": "python",
   "nbconvert_exporter": "python",
   "pygments_lexer": "ipython3",
   "version": "3.8.8"
  }
 },
 "nbformat": 4,
 "nbformat_minor": 5
}
