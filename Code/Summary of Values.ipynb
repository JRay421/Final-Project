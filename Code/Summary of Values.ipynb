{
 "cells": [
  {
   "cell_type": "markdown",
   "id": "badc76e1",
   "metadata": {},
   "source": [
    "# Exploratory Analysis"
   ]
  },
  {
   "cell_type": "markdown",
   "id": "84fa69ae",
   "metadata": {},
   "source": [
    "### Import Packages"
   ]
  },
  {
   "cell_type": "code",
   "execution_count": 3,
   "id": "ea62cbef",
   "metadata": {},
   "outputs": [],
   "source": [
    "import pandas as pd"
   ]
  },
  {
   "cell_type": "markdown",
   "id": "6e31d573",
   "metadata": {},
   "source": [
    "### Load Data"
   ]
  },
  {
   "cell_type": "code",
   "execution_count": 4,
   "id": "c1bb6a34",
   "metadata": {},
   "outputs": [],
   "source": [
    "BC = pd.read_csv('C:/Users/Student/Desktop/Group Project/archive/breast-cancer.csv')"
   ]
  },
  {
   "cell_type": "markdown",
   "id": "98b0cbcb",
   "metadata": {},
   "source": [
    "### Summary of selected values"
   ]
  },
  {
   "cell_type": "code",
   "execution_count": 5,
   "id": "12712107",
   "metadata": {},
   "outputs": [
    {
     "data": {
      "text/html": [
       "<div>\n",
       "<style scoped>\n",
       "    .dataframe tbody tr th:only-of-type {\n",
       "        vertical-align: middle;\n",
       "    }\n",
       "\n",
       "    .dataframe tbody tr th {\n",
       "        vertical-align: top;\n",
       "    }\n",
       "\n",
       "    .dataframe thead th {\n",
       "        text-align: right;\n",
       "    }\n",
       "</style>\n",
       "<table border=\"1\" class=\"dataframe\">\n",
       "  <thead>\n",
       "    <tr style=\"text-align: right;\">\n",
       "      <th></th>\n",
       "      <th>area_mean</th>\n",
       "      <th>smoothness_mean</th>\n",
       "      <th>compactness_mean</th>\n",
       "      <th>symmetry_mean</th>\n",
       "      <th>concavity_mean</th>\n",
       "      <th>concave points_mean</th>\n",
       "    </tr>\n",
       "  </thead>\n",
       "  <tbody>\n",
       "    <tr>\n",
       "      <th>count</th>\n",
       "      <td>569.000000</td>\n",
       "      <td>569.000000</td>\n",
       "      <td>569.000000</td>\n",
       "      <td>569.000000</td>\n",
       "      <td>569.000000</td>\n",
       "      <td>569.000000</td>\n",
       "    </tr>\n",
       "    <tr>\n",
       "      <th>mean</th>\n",
       "      <td>654.889104</td>\n",
       "      <td>0.096360</td>\n",
       "      <td>0.104341</td>\n",
       "      <td>0.181162</td>\n",
       "      <td>0.088799</td>\n",
       "      <td>0.048919</td>\n",
       "    </tr>\n",
       "    <tr>\n",
       "      <th>std</th>\n",
       "      <td>351.914129</td>\n",
       "      <td>0.014064</td>\n",
       "      <td>0.052813</td>\n",
       "      <td>0.027414</td>\n",
       "      <td>0.079720</td>\n",
       "      <td>0.038803</td>\n",
       "    </tr>\n",
       "    <tr>\n",
       "      <th>min</th>\n",
       "      <td>143.500000</td>\n",
       "      <td>0.052630</td>\n",
       "      <td>0.019380</td>\n",
       "      <td>0.106000</td>\n",
       "      <td>0.000000</td>\n",
       "      <td>0.000000</td>\n",
       "    </tr>\n",
       "    <tr>\n",
       "      <th>25%</th>\n",
       "      <td>420.300000</td>\n",
       "      <td>0.086370</td>\n",
       "      <td>0.064920</td>\n",
       "      <td>0.161900</td>\n",
       "      <td>0.029560</td>\n",
       "      <td>0.020310</td>\n",
       "    </tr>\n",
       "    <tr>\n",
       "      <th>50%</th>\n",
       "      <td>551.100000</td>\n",
       "      <td>0.095870</td>\n",
       "      <td>0.092630</td>\n",
       "      <td>0.179200</td>\n",
       "      <td>0.061540</td>\n",
       "      <td>0.033500</td>\n",
       "    </tr>\n",
       "    <tr>\n",
       "      <th>75%</th>\n",
       "      <td>782.700000</td>\n",
       "      <td>0.105300</td>\n",
       "      <td>0.130400</td>\n",
       "      <td>0.195700</td>\n",
       "      <td>0.130700</td>\n",
       "      <td>0.074000</td>\n",
       "    </tr>\n",
       "    <tr>\n",
       "      <th>max</th>\n",
       "      <td>2501.000000</td>\n",
       "      <td>0.163400</td>\n",
       "      <td>0.345400</td>\n",
       "      <td>0.304000</td>\n",
       "      <td>0.426800</td>\n",
       "      <td>0.201200</td>\n",
       "    </tr>\n",
       "  </tbody>\n",
       "</table>\n",
       "</div>"
      ],
      "text/plain": [
       "         area_mean  smoothness_mean  compactness_mean  symmetry_mean  \\\n",
       "count   569.000000       569.000000        569.000000     569.000000   \n",
       "mean    654.889104         0.096360          0.104341       0.181162   \n",
       "std     351.914129         0.014064          0.052813       0.027414   \n",
       "min     143.500000         0.052630          0.019380       0.106000   \n",
       "25%     420.300000         0.086370          0.064920       0.161900   \n",
       "50%     551.100000         0.095870          0.092630       0.179200   \n",
       "75%     782.700000         0.105300          0.130400       0.195700   \n",
       "max    2501.000000         0.163400          0.345400       0.304000   \n",
       "\n",
       "       concavity_mean  concave points_mean  \n",
       "count      569.000000           569.000000  \n",
       "mean         0.088799             0.048919  \n",
       "std          0.079720             0.038803  \n",
       "min          0.000000             0.000000  \n",
       "25%          0.029560             0.020310  \n",
       "50%          0.061540             0.033500  \n",
       "75%          0.130700             0.074000  \n",
       "max          0.426800             0.201200  "
      ]
     },
     "execution_count": 5,
     "metadata": {},
     "output_type": "execute_result"
    }
   ],
   "source": [
    "BC[['diagnosis', 'area_mean', 'smoothness_mean', 'compactness_mean', 'symmetry_mean', 'concavity_mean', 'concave points_mean']].describe()"
   ]
  },
  {
   "cell_type": "code",
   "execution_count": null,
   "id": "002da1b4",
   "metadata": {},
   "outputs": [],
   "source": []
  }
 ],
 "metadata": {
  "kernelspec": {
   "display_name": "Python 3",
   "language": "python",
   "name": "python3"
  },
  "language_info": {
   "codemirror_mode": {
    "name": "ipython",
    "version": 3
   },
   "file_extension": ".py",
   "mimetype": "text/x-python",
   "name": "python",
   "nbconvert_exporter": "python",
   "pygments_lexer": "ipython3",
   "version": "3.8.8"
  }
 },
 "nbformat": 4,
 "nbformat_minor": 5
}
